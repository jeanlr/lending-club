{
 "cells": [
  {
   "cell_type": "markdown",
   "metadata": {},
   "source": [
    "## Setup enviroment"
   ]
  },
  {
   "cell_type": "code",
   "execution_count": 1,
   "metadata": {},
   "outputs": [
    {
     "name": "stderr",
     "output_type": "stream",
     "text": [
      "c:\\Users\\jeanr\\Documents\\projetos\\classificacao\\lending-club\\.venv\\Lib\\site-packages\\tqdm\\auto.py:21: TqdmWarning: IProgress not found. Please update jupyter and ipywidgets. See https://ipywidgets.readthedocs.io/en/stable/user_install.html\n",
      "  from .autonotebook import tqdm as notebook_tqdm\n"
     ]
    }
   ],
   "source": [
    "import pickle\n",
    "import os\n",
    "import gc\n",
    "import pandas as pd\n",
    "import numpy as np\n",
    "from catboost import CatBoostClassifier\n",
    "from sklearn.metrics import log_loss, roc_auc_score, average_precision_score, brier_score_loss, precision_recall_curve\n",
    "from sklearn.calibration import calibration_curve, CalibratedClassifierCV\n",
    "from sklearn.inspection import permutation_importance\n",
    "from sklearn.model_selection import train_test_split\n",
    "import matplotlib.pyplot as plt\n",
    "import seaborn as sns\n",
    "import sys\n",
    "sys.path.append(r'C:\\Users\\jeanr\\Documents\\projetos\\classificacao\\lending-club\\global')\n",
    "from util import *\n",
    "import optuna\n",
    "import arfs.feature_selection.allrelevant as arfsgroot\n",
    "import shap\n",
    "import json\n",
    "import joblib\n",
    "from venn_abers import VennAbersCalibrator\n",
    "\n",
    "sns.set(style='whitegrid')"
   ]
  },
  {
   "cell_type": "markdown",
   "metadata": {},
   "source": [
    "## Read train, validation, calibration and test data"
   ]
  },
  {
   "cell_type": "code",
   "execution_count": 2,
   "metadata": {},
   "outputs": [],
   "source": [
    "train_df = pd.read_parquet('../data/processed/train_df.parquet')\n",
    "validation_df = pd.read_parquet('../data/processed/validation_df.parquet')\n",
    "calibration_df = pd.read_parquet('../data/processed/calibration_df.parquet')\n",
    "test_df = pd.read_parquet('../data/processed/feature_engineering_test.parquet')"
   ]
  },
  {
   "cell_type": "markdown",
   "metadata": {},
   "source": [
    "## Preparando os dados"
   ]
  },
  {
   "cell_type": "code",
   "execution_count": 3,
   "metadata": {},
   "outputs": [
    {
     "data": {
      "text/html": [
       "<div>\n",
       "<style scoped>\n",
       "    .dataframe tbody tr th:only-of-type {\n",
       "        vertical-align: middle;\n",
       "    }\n",
       "\n",
       "    .dataframe tbody tr th {\n",
       "        vertical-align: top;\n",
       "    }\n",
       "\n",
       "    .dataframe thead th {\n",
       "        text-align: right;\n",
       "    }\n",
       "</style>\n",
       "<table border=\"1\" class=\"dataframe\">\n",
       "  <thead>\n",
       "    <tr style=\"text-align: right;\">\n",
       "      <th></th>\n",
       "      <th>FEATURE</th>\n",
       "      <th>USO_FEATURE</th>\n",
       "      <th>QT_NULOS</th>\n",
       "      <th>PC_NULOS</th>\n",
       "      <th>CARDINALIDADE</th>\n",
       "      <th>TIPO_FEATURE</th>\n",
       "    </tr>\n",
       "  </thead>\n",
       "  <tbody>\n",
       "    <tr>\n",
       "      <th>0</th>\n",
       "      <td>verification_status_joint</td>\n",
       "      <td>Explicativa</td>\n",
       "      <td>88683</td>\n",
       "      <td>99.93</td>\n",
       "      <td>1</td>\n",
       "      <td>category</td>\n",
       "    </tr>\n",
       "    <tr>\n",
       "      <th>1</th>\n",
       "      <td>emp_length</td>\n",
       "      <td>Explicativa</td>\n",
       "      <td>4446</td>\n",
       "      <td>5.01</td>\n",
       "      <td>11</td>\n",
       "      <td>category</td>\n",
       "    </tr>\n",
       "    <tr>\n",
       "      <th>2</th>\n",
       "      <td>num_op_rev_tl</td>\n",
       "      <td>Explicativa</td>\n",
       "      <td>0</td>\n",
       "      <td>0.00</td>\n",
       "      <td>48</td>\n",
       "      <td>Int16</td>\n",
       "    </tr>\n",
       "    <tr>\n",
       "      <th>3</th>\n",
       "      <td>pub_rec_bankruptcies</td>\n",
       "      <td>Explicativa</td>\n",
       "      <td>0</td>\n",
       "      <td>0.00</td>\n",
       "      <td>9</td>\n",
       "      <td>Int16</td>\n",
       "    </tr>\n",
       "    <tr>\n",
       "      <th>4</th>\n",
       "      <td>percent_bc_gt_75</td>\n",
       "      <td>Explicativa</td>\n",
       "      <td>0</td>\n",
       "      <td>0.00</td>\n",
       "      <td>136</td>\n",
       "      <td>float16</td>\n",
       "    </tr>\n",
       "    <tr>\n",
       "      <th>5</th>\n",
       "      <td>pct_tl_nvr_dlq</td>\n",
       "      <td>Explicativa</td>\n",
       "      <td>0</td>\n",
       "      <td>0.00</td>\n",
       "      <td>425</td>\n",
       "      <td>float16</td>\n",
       "    </tr>\n",
       "    <tr>\n",
       "      <th>6</th>\n",
       "      <td>num_tl_op_past_12m</td>\n",
       "      <td>Explicativa</td>\n",
       "      <td>0</td>\n",
       "      <td>0.00</td>\n",
       "      <td>22</td>\n",
       "      <td>Int16</td>\n",
       "    </tr>\n",
       "    <tr>\n",
       "      <th>7</th>\n",
       "      <td>num_tl_90g_dpd_24m</td>\n",
       "      <td>Explicativa</td>\n",
       "      <td>0</td>\n",
       "      <td>0.00</td>\n",
       "      <td>20</td>\n",
       "      <td>Int16</td>\n",
       "    </tr>\n",
       "    <tr>\n",
       "      <th>8</th>\n",
       "      <td>num_tl_30dpd</td>\n",
       "      <td>Explicativa</td>\n",
       "      <td>0</td>\n",
       "      <td>0.00</td>\n",
       "      <td>5</td>\n",
       "      <td>Int16</td>\n",
       "    </tr>\n",
       "    <tr>\n",
       "      <th>9</th>\n",
       "      <td>num_tl_120dpd_2m</td>\n",
       "      <td>Explicativa</td>\n",
       "      <td>0</td>\n",
       "      <td>0.00</td>\n",
       "      <td>4</td>\n",
       "      <td>Int16</td>\n",
       "    </tr>\n",
       "  </tbody>\n",
       "</table>\n",
       "</div>"
      ],
      "text/plain": [
       "                     FEATURE  USO_FEATURE  QT_NULOS  PC_NULOS  CARDINALIDADE  \\\n",
       "0  verification_status_joint  Explicativa     88683     99.93              1   \n",
       "1                 emp_length  Explicativa      4446      5.01             11   \n",
       "2              num_op_rev_tl  Explicativa         0      0.00             48   \n",
       "3       pub_rec_bankruptcies  Explicativa         0      0.00              9   \n",
       "4           percent_bc_gt_75  Explicativa         0      0.00            136   \n",
       "5             pct_tl_nvr_dlq  Explicativa         0      0.00            425   \n",
       "6         num_tl_op_past_12m  Explicativa         0      0.00             22   \n",
       "7         num_tl_90g_dpd_24m  Explicativa         0      0.00             20   \n",
       "8               num_tl_30dpd  Explicativa         0      0.00              5   \n",
       "9           num_tl_120dpd_2m  Explicativa         0      0.00              4   \n",
       "\n",
       "  TIPO_FEATURE  \n",
       "0     category  \n",
       "1     category  \n",
       "2        Int16  \n",
       "3        Int16  \n",
       "4      float16  \n",
       "5      float16  \n",
       "6        Int16  \n",
       "7        Int16  \n",
       "8        Int16  \n",
       "9        Int16  "
      ]
     },
     "execution_count": 3,
     "metadata": {},
     "output_type": "execute_result"
    }
   ],
   "source": [
    "metadados = generate_metadata(train_df, ids=['id', 'issue_d'], targets=['default'], orderby='PC_NULOS')\n",
    "metadados.head(10)"
   ]
  },
  {
   "cell_type": "markdown",
   "metadata": {},
   "source": [
    "## Excluindo variáveis com mais de 70% de nulos"
   ]
  },
  {
   "cell_type": "code",
   "execution_count": 4,
   "metadata": {},
   "outputs": [
    {
     "name": "stdout",
     "output_type": "stream",
     "text": [
      "Variáveis que serão excluídas por alto percentual de nulos:  ['verification_status_joint']\n"
     ]
    },
    {
     "data": {
      "text/plain": [
       "(88744, 101)"
      ]
     },
     "execution_count": 4,
     "metadata": {},
     "output_type": "execute_result"
    }
   ],
   "source": [
    "missing_cutoff = 70\n",
    "\n",
    "drop_vars_nulos = metadados[(metadados['PC_NULOS'] >= missing_cutoff)]\n",
    "lista_drop_vars = list(drop_vars_nulos.FEATURE.values)\n",
    "print('Variáveis que serão excluídas por alto percentual de nulos: ',lista_drop_vars)\n",
    "  # retirando lista de variáveis com alto percentual de nulos\n",
    "train_df_02 = train_df.drop(axis=1,columns=lista_drop_vars)\n",
    "train_df_02.shape"
   ]
  },
  {
   "cell_type": "code",
   "execution_count": 5,
   "metadata": {},
   "outputs": [],
   "source": [
    "# Salvando a lista em um arquivo .pkl\n",
    "with open('../artifacts/prd_drop_nullvars.pkl', 'wb') as f:\n",
    "    pickle.dump(lista_drop_vars, f)"
   ]
  },
  {
   "cell_type": "code",
   "execution_count": 6,
   "metadata": {},
   "outputs": [],
   "source": [
    "# Abrindo arquivo .pkl\n",
    "with open('../artifacts/prd_drop_nullvars.pkl', 'rb') as f:\n",
    "  lista_drop_vars = pickle.load(f)"
   ]
  },
  {
   "cell_type": "markdown",
   "metadata": {},
   "source": [
    "## Aplicando a retirada de nulos nas outras bases"
   ]
  },
  {
   "cell_type": "code",
   "execution_count": 7,
   "metadata": {},
   "outputs": [
    {
     "data": {
      "text/plain": [
       "(264688, 101)"
      ]
     },
     "execution_count": 7,
     "metadata": {},
     "output_type": "execute_result"
    }
   ],
   "source": [
    "  # retirando lista de variáveis com alto percentual de nulos\n",
    "validation_df_02 = validation_df.drop(axis=1,columns=lista_drop_vars)\n",
    "validation_df_02.shape"
   ]
  },
  {
   "cell_type": "code",
   "execution_count": 8,
   "metadata": {},
   "outputs": [
    {
     "data": {
      "text/plain": [
       "(66173, 101)"
      ]
     },
     "execution_count": 8,
     "metadata": {},
     "output_type": "execute_result"
    }
   ],
   "source": [
    "  # retirando lista de variáveis com alto percentual de nulos\n",
    "calibration_df_02 = calibration_df.drop(axis=1,columns=lista_drop_vars)\n",
    "calibration_df_02.shape"
   ]
  },
  {
   "cell_type": "code",
   "execution_count": 9,
   "metadata": {},
   "outputs": [],
   "source": [
    "# Loading features from features_list.json\n",
    "with open('../artifacts/features_list.json', 'r') as f:\n",
    "    features = json.load(f)"
   ]
  },
  {
   "cell_type": "code",
   "execution_count": 10,
   "metadata": {},
   "outputs": [],
   "source": [
    "if 'default' in features:\n",
    "    features.remove('default')\n",
    "test_df = test_df[features]"
   ]
  },
  {
   "cell_type": "code",
   "execution_count": 11,
   "metadata": {},
   "outputs": [
    {
     "data": {
      "text/plain": [
       "(538826, 100)"
      ]
     },
     "execution_count": 11,
     "metadata": {},
     "output_type": "execute_result"
    }
   ],
   "source": [
    "  # retirando lista de variáveis com alto percentual de nulos\n",
    "test_df_02 = test_df.drop(axis=1,columns=lista_drop_vars)\n",
    "test_df_02.shape"
   ]
  },
  {
   "cell_type": "markdown",
   "metadata": {},
   "source": [
    "## Tratamento de nulos"
   ]
  },
  {
   "cell_type": "code",
   "execution_count": 12,
   "metadata": {},
   "outputs": [
    {
     "data": {
      "text/html": [
       "<div>\n",
       "<style scoped>\n",
       "    .dataframe tbody tr th:only-of-type {\n",
       "        vertical-align: middle;\n",
       "    }\n",
       "\n",
       "    .dataframe tbody tr th {\n",
       "        vertical-align: top;\n",
       "    }\n",
       "\n",
       "    .dataframe thead th {\n",
       "        text-align: right;\n",
       "    }\n",
       "</style>\n",
       "<table border=\"1\" class=\"dataframe\">\n",
       "  <thead>\n",
       "    <tr style=\"text-align: right;\">\n",
       "      <th></th>\n",
       "      <th>funded_amnt</th>\n",
       "      <th>funded_amnt_inv</th>\n",
       "      <th>term</th>\n",
       "      <th>int_rate</th>\n",
       "      <th>grade</th>\n",
       "      <th>sub_grade</th>\n",
       "      <th>emp_length</th>\n",
       "      <th>home_ownership</th>\n",
       "      <th>annual_inc</th>\n",
       "      <th>verification_status</th>\n",
       "      <th>...</th>\n",
       "      <th>income_to_funded_ratio</th>\n",
       "      <th>debt_to_income_ratio</th>\n",
       "      <th>funded_amnt_per_income</th>\n",
       "      <th>fico_avg</th>\n",
       "      <th>credit_utilization_ratio</th>\n",
       "      <th>total_credit_lines</th>\n",
       "      <th>delinquency_ratio</th>\n",
       "      <th>int_rate_to_income_ratio</th>\n",
       "      <th>public_records_impact</th>\n",
       "      <th>pct_active_bc</th>\n",
       "    </tr>\n",
       "  </thead>\n",
       "  <tbody>\n",
       "    <tr>\n",
       "      <th>2061403</th>\n",
       "      <td>14400</td>\n",
       "      <td>14400.0</td>\n",
       "      <td>36</td>\n",
       "      <td>0.099915</td>\n",
       "      <td>B</td>\n",
       "      <td>B3</td>\n",
       "      <td>2 years</td>\n",
       "      <td>RENT</td>\n",
       "      <td>66000.0</td>\n",
       "      <td>Source Verified</td>\n",
       "      <td>...</td>\n",
       "      <td>4.583333</td>\n",
       "      <td>0.000121</td>\n",
       "      <td>0.218182</td>\n",
       "      <td>0.502985</td>\n",
       "      <td>0.563946</td>\n",
       "      <td>73</td>\n",
       "      <td>0.333333</td>\n",
       "      <td>1.513857e-06</td>\n",
       "      <td>14400</td>\n",
       "      <td>0.5</td>\n",
       "    </tr>\n",
       "    <tr>\n",
       "      <th>1693728</th>\n",
       "      <td>9325</td>\n",
       "      <td>9328.0</td>\n",
       "      <td>36</td>\n",
       "      <td>0.129883</td>\n",
       "      <td>B</td>\n",
       "      <td>B5</td>\n",
       "      <td>10+ years</td>\n",
       "      <td>MORTGAGE</td>\n",
       "      <td>41000.0</td>\n",
       "      <td>Verified</td>\n",
       "      <td>...</td>\n",
       "      <td>4.396783</td>\n",
       "      <td>0.000701</td>\n",
       "      <td>0.227439</td>\n",
       "      <td>0.50274</td>\n",
       "      <td>0.602335</td>\n",
       "      <td>27</td>\n",
       "      <td>0.0</td>\n",
       "      <td>3.167874e-06</td>\n",
       "      <td>0</td>\n",
       "      <td>0.166667</td>\n",
       "    </tr>\n",
       "    <tr>\n",
       "      <th>1516805</th>\n",
       "      <td>5000</td>\n",
       "      <td>5000.0</td>\n",
       "      <td>36</td>\n",
       "      <td>0.143066</td>\n",
       "      <td>C</td>\n",
       "      <td>C4</td>\n",
       "      <td>NaN</td>\n",
       "      <td>OWN</td>\n",
       "      <td>72000.0</td>\n",
       "      <td>Verified</td>\n",
       "      <td>...</td>\n",
       "      <td>14.4</td>\n",
       "      <td>0.000368</td>\n",
       "      <td>0.069444</td>\n",
       "      <td>0.502963</td>\n",
       "      <td>0.834756</td>\n",
       "      <td>20</td>\n",
       "      <td>0.076923</td>\n",
       "      <td>1.987033e-06</td>\n",
       "      <td>0</td>\n",
       "      <td>0.25</td>\n",
       "    </tr>\n",
       "    <tr>\n",
       "      <th>74963</th>\n",
       "      <td>28000</td>\n",
       "      <td>27952.0</td>\n",
       "      <td>60</td>\n",
       "      <td>0.119873</td>\n",
       "      <td>B</td>\n",
       "      <td>B3</td>\n",
       "      <td>1 year</td>\n",
       "      <td>RENT</td>\n",
       "      <td>120000.0</td>\n",
       "      <td>Verified</td>\n",
       "      <td>...</td>\n",
       "      <td>4.285714</td>\n",
       "      <td>0.000146</td>\n",
       "      <td>0.233333</td>\n",
       "      <td>0.502721</td>\n",
       "      <td>0.446627</td>\n",
       "      <td>36</td>\n",
       "      <td>0.0</td>\n",
       "      <td>9.989420e-07</td>\n",
       "      <td>0</td>\n",
       "      <td>0.4</td>\n",
       "    </tr>\n",
       "    <tr>\n",
       "      <th>2107479</th>\n",
       "      <td>10775</td>\n",
       "      <td>10776.0</td>\n",
       "      <td>36</td>\n",
       "      <td>0.156128</td>\n",
       "      <td>D</td>\n",
       "      <td>D1</td>\n",
       "      <td>&lt; 1 year</td>\n",
       "      <td>MORTGAGE</td>\n",
       "      <td>55200.0</td>\n",
       "      <td>Source Verified</td>\n",
       "      <td>...</td>\n",
       "      <td>5.12297</td>\n",
       "      <td>0.000194</td>\n",
       "      <td>0.195199</td>\n",
       "      <td>0.502985</td>\n",
       "      <td>0.612586</td>\n",
       "      <td>15</td>\n",
       "      <td>0.0</td>\n",
       "      <td>2.828405e-06</td>\n",
       "      <td>10775</td>\n",
       "      <td>0.333333</td>\n",
       "    </tr>\n",
       "  </tbody>\n",
       "</table>\n",
       "<p>5 rows × 100 columns</p>\n",
       "</div>"
      ],
      "text/plain": [
       "         funded_amnt  funded_amnt_inv  term  int_rate grade sub_grade  \\\n",
       "2061403        14400          14400.0    36  0.099915     B        B3   \n",
       "1693728         9325           9328.0    36  0.129883     B        B5   \n",
       "1516805         5000           5000.0    36  0.143066     C        C4   \n",
       "74963          28000          27952.0    60  0.119873     B        B3   \n",
       "2107479        10775          10776.0    36  0.156128     D        D1   \n",
       "\n",
       "        emp_length home_ownership  annual_inc verification_status  ...  \\\n",
       "2061403    2 years           RENT     66000.0     Source Verified  ...   \n",
       "1693728  10+ years       MORTGAGE     41000.0            Verified  ...   \n",
       "1516805        NaN            OWN     72000.0            Verified  ...   \n",
       "74963       1 year           RENT    120000.0            Verified  ...   \n",
       "2107479   < 1 year       MORTGAGE     55200.0     Source Verified  ...   \n",
       "\n",
       "         income_to_funded_ratio  debt_to_income_ratio  funded_amnt_per_income  \\\n",
       "2061403                4.583333              0.000121                0.218182   \n",
       "1693728                4.396783              0.000701                0.227439   \n",
       "1516805                    14.4              0.000368                0.069444   \n",
       "74963                  4.285714              0.000146                0.233333   \n",
       "2107479                 5.12297              0.000194                0.195199   \n",
       "\n",
       "         fico_avg  credit_utilization_ratio  total_credit_lines  \\\n",
       "2061403  0.502985                  0.563946                  73   \n",
       "1693728   0.50274                  0.602335                  27   \n",
       "1516805  0.502963                  0.834756                  20   \n",
       "74963    0.502721                  0.446627                  36   \n",
       "2107479  0.502985                  0.612586                  15   \n",
       "\n",
       "         delinquency_ratio  int_rate_to_income_ratio  public_records_impact  \\\n",
       "2061403           0.333333              1.513857e-06                  14400   \n",
       "1693728                0.0              3.167874e-06                      0   \n",
       "1516805           0.076923              1.987033e-06                      0   \n",
       "74963                  0.0              9.989420e-07                      0   \n",
       "2107479                0.0              2.828405e-06                  10775   \n",
       "\n",
       "         pct_active_bc  \n",
       "2061403            0.5  \n",
       "1693728       0.166667  \n",
       "1516805           0.25  \n",
       "74963              0.4  \n",
       "2107479       0.333333  \n",
       "\n",
       "[5 rows x 100 columns]"
      ]
     },
     "execution_count": 12,
     "metadata": {},
     "output_type": "execute_result"
    }
   ],
   "source": [
    "train_df_02 = train_df_02.drop(axis=1, columns=['default'])\n",
    "train_df_02.head()"
   ]
  },
  {
   "cell_type": "code",
   "execution_count": 13,
   "metadata": {},
   "outputs": [
    {
     "name": "stderr",
     "output_type": "stream",
     "text": [
      "C:\\Users\\jeanr\\Documents\\projetos\\classificacao\\lending-club\\global\\util.py:1138: FutureWarning: A value is trying to be set on a copy of a DataFrame or Series through chained assignment using an inplace method.\n",
      "The behavior will change in pandas 3.0. This inplace method will never work because the intermediate object on which we are setting values always behaves as a copy.\n",
      "\n",
      "For example, when doing 'df[col].method(value, inplace=True)', try using 'df.method({col: value}, inplace=True)' or df[col] = df[col].method(value) instead, to perform the operation inplace on the original object.\n",
      "\n",
      "\n",
      "  df[col].fillna(means[col], inplace=True)\n"
     ]
    }
   ],
   "source": [
    "train_df_03, means = fillna_numeric(train_df_02)\n",
    "\n",
    "with open('../artifacts/prd_fillna_num.pkl', 'wb') as f:\n",
    "  pickle.dump(means, f)"
   ]
  },
  {
   "cell_type": "code",
   "execution_count": 14,
   "metadata": {},
   "outputs": [
    {
     "name": "stderr",
     "output_type": "stream",
     "text": [
      "C:\\Users\\jeanr\\Documents\\projetos\\classificacao\\lending-club\\global\\util.py:1155: FutureWarning: A value is trying to be set on a copy of a DataFrame or Series through chained assignment using an inplace method.\n",
      "The behavior will change in pandas 3.0. This inplace method will never work because the intermediate object on which we are setting values always behaves as a copy.\n",
      "\n",
      "For example, when doing 'df[col].method(value, inplace=True)', try using 'df.method({col: value}, inplace=True)' or df[col] = df[col].method(value) instead, to perform the operation inplace on the original object.\n",
      "\n",
      "\n",
      "  df[col].fillna(modes[col], inplace=True)\n"
     ]
    }
   ],
   "source": [
    "train_df_03, modes = fillna_categorical(train_df_02)\n",
    "\n",
    "with open('../artifacts/prd_fillna_catg.pkl', 'wb') as f:\n",
    "  pickle.dump(modes, f)"
   ]
  },
  {
   "cell_type": "markdown",
   "metadata": {},
   "source": [
    "## Aplicando tratamento de nulos nas outras bases"
   ]
  },
  {
   "cell_type": "code",
   "execution_count": 15,
   "metadata": {},
   "outputs": [],
   "source": [
    "with open('../artifacts/prd_fillna_num.pkl', 'rb') as f:\n",
    "  loaded_means = pickle.load(f)"
   ]
  },
  {
   "cell_type": "code",
   "execution_count": 16,
   "metadata": {},
   "outputs": [],
   "source": [
    "with open('../artifacts/prd_fillna_catg.pkl', 'rb') as f:\n",
    "  loaded_modes = pickle.load(f)"
   ]
  },
  {
   "cell_type": "code",
   "execution_count": 17,
   "metadata": {},
   "outputs": [
    {
     "name": "stderr",
     "output_type": "stream",
     "text": [
      "C:\\Users\\jeanr\\Documents\\projetos\\classificacao\\lending-club\\global\\util.py:1172: FutureWarning: A value is trying to be set on a copy of a DataFrame or Series through chained assignment using an inplace method.\n",
      "The behavior will change in pandas 3.0. This inplace method will never work because the intermediate object on which we are setting values always behaves as a copy.\n",
      "\n",
      "For example, when doing 'df[col].method(value, inplace=True)', try using 'df.method({col: value}, inplace=True)' or df[col] = df[col].method(value) instead, to perform the operation inplace on the original object.\n",
      "\n",
      "\n",
      "  df[col].fillna(mean_value, inplace=True)\n"
     ]
    },
    {
     "data": {
      "text/plain": [
       "(264688, 101)"
      ]
     },
     "execution_count": 17,
     "metadata": {},
     "output_type": "execute_result"
    }
   ],
   "source": [
    "validation_df_03 = fillna_num_prod(validation_df_02,loaded_means)\n",
    "validation_df_03.shape"
   ]
  },
  {
   "cell_type": "code",
   "execution_count": 18,
   "metadata": {},
   "outputs": [
    {
     "data": {
      "text/plain": [
       "(66173, 101)"
      ]
     },
     "execution_count": 18,
     "metadata": {},
     "output_type": "execute_result"
    }
   ],
   "source": [
    "calibration_df_03 = fillna_num_prod(calibration_df_02,loaded_means)\n",
    "calibration_df_03.shape"
   ]
  },
  {
   "cell_type": "code",
   "execution_count": 19,
   "metadata": {},
   "outputs": [
    {
     "data": {
      "text/plain": [
       "(538826, 100)"
      ]
     },
     "execution_count": 19,
     "metadata": {},
     "output_type": "execute_result"
    }
   ],
   "source": [
    "test_df_03 = fillna_num_prod(test_df_02,loaded_means)\n",
    "test_df_03.shape"
   ]
  },
  {
   "cell_type": "code",
   "execution_count": 20,
   "metadata": {},
   "outputs": [
    {
     "name": "stderr",
     "output_type": "stream",
     "text": [
      "C:\\Users\\jeanr\\Documents\\projetos\\classificacao\\lending-club\\global\\util.py:1191: FutureWarning: A value is trying to be set on a copy of a DataFrame or Series through chained assignment using an inplace method.\n",
      "The behavior will change in pandas 3.0. This inplace method will never work because the intermediate object on which we are setting values always behaves as a copy.\n",
      "\n",
      "For example, when doing 'df[col].method(value, inplace=True)', try using 'df.method({col: value}, inplace=True)' or df[col] = df[col].method(value) instead, to perform the operation inplace on the original object.\n",
      "\n",
      "\n",
      "  df[col].fillna(mode_value, inplace=True)\n"
     ]
    }
   ],
   "source": [
    "train_df_03 = fillna_catg_prod(train_df_03,loaded_modes)\n",
    "validation_df_03 = fillna_catg_prod(validation_df_03,loaded_modes)\n",
    "calibration_df_03 = fillna_catg_prod(calibration_df_03,loaded_modes)\n",
    "test_df_03 = fillna_catg_prod(test_df_03,loaded_modes)"
   ]
  },
  {
   "cell_type": "code",
   "execution_count": 21,
   "metadata": {},
   "outputs": [
    {
     "data": {
      "text/plain": [
       "((88744, 100), (66173, 101), (264688, 101), (538826, 100))"
      ]
     },
     "execution_count": 21,
     "metadata": {},
     "output_type": "execute_result"
    }
   ],
   "source": [
    "train_df_03.shape, calibration_df_03.shape, validation_df_03.shape, test_df_03.shape"
   ]
  },
  {
   "cell_type": "code",
   "execution_count": 22,
   "metadata": {},
   "outputs": [
    {
     "data": {
      "text/html": [
       "<div>\n",
       "<style scoped>\n",
       "    .dataframe tbody tr th:only-of-type {\n",
       "        vertical-align: middle;\n",
       "    }\n",
       "\n",
       "    .dataframe tbody tr th {\n",
       "        vertical-align: top;\n",
       "    }\n",
       "\n",
       "    .dataframe thead th {\n",
       "        text-align: right;\n",
       "    }\n",
       "</style>\n",
       "<table border=\"1\" class=\"dataframe\">\n",
       "  <thead>\n",
       "    <tr style=\"text-align: right;\">\n",
       "      <th></th>\n",
       "      <th>FEATURE</th>\n",
       "      <th>USO_FEATURE</th>\n",
       "      <th>QT_NULOS</th>\n",
       "      <th>PC_NULOS</th>\n",
       "      <th>CARDINALIDADE</th>\n",
       "      <th>TIPO_FEATURE</th>\n",
       "    </tr>\n",
       "  </thead>\n",
       "  <tbody>\n",
       "    <tr>\n",
       "      <th>0</th>\n",
       "      <td>funded_amnt</td>\n",
       "      <td>Explicativa</td>\n",
       "      <td>0</td>\n",
       "      <td>0.0</td>\n",
       "      <td>1300</td>\n",
       "      <td>Int32</td>\n",
       "    </tr>\n",
       "    <tr>\n",
       "      <th>1</th>\n",
       "      <td>num_il_tl</td>\n",
       "      <td>Explicativa</td>\n",
       "      <td>0</td>\n",
       "      <td>0.0</td>\n",
       "      <td>76</td>\n",
       "      <td>Int16</td>\n",
       "    </tr>\n",
       "    <tr>\n",
       "      <th>2</th>\n",
       "      <td>percent_bc_gt_75</td>\n",
       "      <td>Explicativa</td>\n",
       "      <td>0</td>\n",
       "      <td>0.0</td>\n",
       "      <td>136</td>\n",
       "      <td>float16</td>\n",
       "    </tr>\n",
       "    <tr>\n",
       "      <th>3</th>\n",
       "      <td>pct_tl_nvr_dlq</td>\n",
       "      <td>Explicativa</td>\n",
       "      <td>0</td>\n",
       "      <td>0.0</td>\n",
       "      <td>425</td>\n",
       "      <td>float16</td>\n",
       "    </tr>\n",
       "    <tr>\n",
       "      <th>4</th>\n",
       "      <td>num_tl_op_past_12m</td>\n",
       "      <td>Explicativa</td>\n",
       "      <td>0</td>\n",
       "      <td>0.0</td>\n",
       "      <td>22</td>\n",
       "      <td>Int16</td>\n",
       "    </tr>\n",
       "    <tr>\n",
       "      <th>5</th>\n",
       "      <td>num_tl_90g_dpd_24m</td>\n",
       "      <td>Explicativa</td>\n",
       "      <td>0</td>\n",
       "      <td>0.0</td>\n",
       "      <td>20</td>\n",
       "      <td>Int16</td>\n",
       "    </tr>\n",
       "    <tr>\n",
       "      <th>6</th>\n",
       "      <td>num_tl_30dpd</td>\n",
       "      <td>Explicativa</td>\n",
       "      <td>0</td>\n",
       "      <td>0.0</td>\n",
       "      <td>5</td>\n",
       "      <td>Int16</td>\n",
       "    </tr>\n",
       "    <tr>\n",
       "      <th>7</th>\n",
       "      <td>num_tl_120dpd_2m</td>\n",
       "      <td>Explicativa</td>\n",
       "      <td>0</td>\n",
       "      <td>0.0</td>\n",
       "      <td>4</td>\n",
       "      <td>Int16</td>\n",
       "    </tr>\n",
       "    <tr>\n",
       "      <th>8</th>\n",
       "      <td>num_sats</td>\n",
       "      <td>Explicativa</td>\n",
       "      <td>0</td>\n",
       "      <td>0.0</td>\n",
       "      <td>56</td>\n",
       "      <td>Int16</td>\n",
       "    </tr>\n",
       "    <tr>\n",
       "      <th>9</th>\n",
       "      <td>num_rev_tl_bal_gt_0</td>\n",
       "      <td>Explicativa</td>\n",
       "      <td>0</td>\n",
       "      <td>0.0</td>\n",
       "      <td>35</td>\n",
       "      <td>Int16</td>\n",
       "    </tr>\n",
       "  </tbody>\n",
       "</table>\n",
       "</div>"
      ],
      "text/plain": [
       "               FEATURE  USO_FEATURE  QT_NULOS  PC_NULOS  CARDINALIDADE  \\\n",
       "0          funded_amnt  Explicativa         0       0.0           1300   \n",
       "1            num_il_tl  Explicativa         0       0.0             76   \n",
       "2     percent_bc_gt_75  Explicativa         0       0.0            136   \n",
       "3       pct_tl_nvr_dlq  Explicativa         0       0.0            425   \n",
       "4   num_tl_op_past_12m  Explicativa         0       0.0             22   \n",
       "5   num_tl_90g_dpd_24m  Explicativa         0       0.0             20   \n",
       "6         num_tl_30dpd  Explicativa         0       0.0              5   \n",
       "7     num_tl_120dpd_2m  Explicativa         0       0.0              4   \n",
       "8             num_sats  Explicativa         0       0.0             56   \n",
       "9  num_rev_tl_bal_gt_0  Explicativa         0       0.0             35   \n",
       "\n",
       "  TIPO_FEATURE  \n",
       "0        Int32  \n",
       "1        Int16  \n",
       "2      float16  \n",
       "3      float16  \n",
       "4        Int16  \n",
       "5        Int16  \n",
       "6        Int16  \n",
       "7        Int16  \n",
       "8        Int16  \n",
       "9        Int16  "
      ]
     },
     "execution_count": 22,
     "metadata": {},
     "output_type": "execute_result"
    }
   ],
   "source": [
    "metadados = generate_metadata(train_df_03, ids=['id', 'issue_d'], targets=['default'], orderby='PC_NULOS')\n",
    "metadados.head(10)"
   ]
  },
  {
   "cell_type": "markdown",
   "metadata": {},
   "source": [
    "## Compondo tabela analítica de modelagem (ABT)"
   ]
  },
  {
   "cell_type": "code",
   "execution_count": 23,
   "metadata": {},
   "outputs": [],
   "source": [
    "#### Trazer o id e target para a tabela pós dataprep\n",
    "\n",
    "abt_train = train_df_03.merge(train_df[['default']], left_index=True, right_index=True, how='inner')"
   ]
  },
  {
   "cell_type": "code",
   "execution_count": 24,
   "metadata": {},
   "outputs": [],
   "source": [
    "abt_calibration = calibration_df_03.copy()\n",
    "abt_validation = validation_df_03.copy()\n",
    "abt_test = test_df_03.copy()"
   ]
  },
  {
   "cell_type": "code",
   "execution_count": 25,
   "metadata": {},
   "outputs": [
    {
     "data": {
      "text/plain": [
       "((88744, 101), (66173, 101), (264688, 101), (538826, 100))"
      ]
     },
     "execution_count": 25,
     "metadata": {},
     "output_type": "execute_result"
    }
   ],
   "source": [
    "abt_train.shape, abt_calibration.shape, abt_validation.shape, abt_test.shape"
   ]
  },
  {
   "cell_type": "markdown",
   "metadata": {},
   "source": [
    "## Salvando ABT`s de treino e teste pós preparação dos dados"
   ]
  },
  {
   "cell_type": "code",
   "execution_count": 26,
   "metadata": {},
   "outputs": [],
   "source": [
    "# Save training data\n",
    "abt_train.to_parquet('../data/processed/abt_train.parquet')\n",
    "\n",
    "# Save validation data\n",
    "abt_calibration.to_parquet('../data/processed/abt_calibration.parquet')\n",
    "\n",
    "# Save calibration data\n",
    "abt_validation.to_parquet('../data/processed/abt_validation.parquet')\n",
    "\n",
    "# Save test data\n",
    "abt_test.to_parquet('../data/processed/abt_test.parquet')"
   ]
  },
  {
   "cell_type": "code",
   "execution_count": 27,
   "metadata": {},
   "outputs": [
    {
     "data": {
      "text/html": [
       "<div>\n",
       "<style scoped>\n",
       "    .dataframe tbody tr th:only-of-type {\n",
       "        vertical-align: middle;\n",
       "    }\n",
       "\n",
       "    .dataframe tbody tr th {\n",
       "        vertical-align: top;\n",
       "    }\n",
       "\n",
       "    .dataframe thead th {\n",
       "        text-align: right;\n",
       "    }\n",
       "</style>\n",
       "<table border=\"1\" class=\"dataframe\">\n",
       "  <thead>\n",
       "    <tr style=\"text-align: right;\">\n",
       "      <th></th>\n",
       "      <th>FEATURE</th>\n",
       "      <th>USO_FEATURE</th>\n",
       "      <th>QT_NULOS</th>\n",
       "      <th>PC_NULOS</th>\n",
       "      <th>CARDINALIDADE</th>\n",
       "      <th>TIPO_FEATURE</th>\n",
       "    </tr>\n",
       "  </thead>\n",
       "  <tbody>\n",
       "    <tr>\n",
       "      <th>0</th>\n",
       "      <td>funded_amnt</td>\n",
       "      <td>Explicativa</td>\n",
       "      <td>0</td>\n",
       "      <td>0.0</td>\n",
       "      <td>1300</td>\n",
       "      <td>Int32</td>\n",
       "    </tr>\n",
       "    <tr>\n",
       "      <th>1</th>\n",
       "      <td>num_op_rev_tl</td>\n",
       "      <td>Explicativa</td>\n",
       "      <td>0</td>\n",
       "      <td>0.0</td>\n",
       "      <td>48</td>\n",
       "      <td>Int16</td>\n",
       "    </tr>\n",
       "    <tr>\n",
       "      <th>2</th>\n",
       "      <td>pub_rec_bankruptcies</td>\n",
       "      <td>Explicativa</td>\n",
       "      <td>0</td>\n",
       "      <td>0.0</td>\n",
       "      <td>9</td>\n",
       "      <td>Int16</td>\n",
       "    </tr>\n",
       "    <tr>\n",
       "      <th>3</th>\n",
       "      <td>percent_bc_gt_75</td>\n",
       "      <td>Explicativa</td>\n",
       "      <td>0</td>\n",
       "      <td>0.0</td>\n",
       "      <td>136</td>\n",
       "      <td>float16</td>\n",
       "    </tr>\n",
       "    <tr>\n",
       "      <th>4</th>\n",
       "      <td>pct_tl_nvr_dlq</td>\n",
       "      <td>Explicativa</td>\n",
       "      <td>0</td>\n",
       "      <td>0.0</td>\n",
       "      <td>425</td>\n",
       "      <td>float16</td>\n",
       "    </tr>\n",
       "    <tr>\n",
       "      <th>5</th>\n",
       "      <td>num_tl_op_past_12m</td>\n",
       "      <td>Explicativa</td>\n",
       "      <td>0</td>\n",
       "      <td>0.0</td>\n",
       "      <td>22</td>\n",
       "      <td>Int16</td>\n",
       "    </tr>\n",
       "    <tr>\n",
       "      <th>6</th>\n",
       "      <td>num_tl_90g_dpd_24m</td>\n",
       "      <td>Explicativa</td>\n",
       "      <td>0</td>\n",
       "      <td>0.0</td>\n",
       "      <td>20</td>\n",
       "      <td>Int16</td>\n",
       "    </tr>\n",
       "    <tr>\n",
       "      <th>7</th>\n",
       "      <td>num_tl_30dpd</td>\n",
       "      <td>Explicativa</td>\n",
       "      <td>0</td>\n",
       "      <td>0.0</td>\n",
       "      <td>5</td>\n",
       "      <td>Int16</td>\n",
       "    </tr>\n",
       "    <tr>\n",
       "      <th>8</th>\n",
       "      <td>num_tl_120dpd_2m</td>\n",
       "      <td>Explicativa</td>\n",
       "      <td>0</td>\n",
       "      <td>0.0</td>\n",
       "      <td>4</td>\n",
       "      <td>Int16</td>\n",
       "    </tr>\n",
       "    <tr>\n",
       "      <th>9</th>\n",
       "      <td>num_sats</td>\n",
       "      <td>Explicativa</td>\n",
       "      <td>0</td>\n",
       "      <td>0.0</td>\n",
       "      <td>56</td>\n",
       "      <td>Int16</td>\n",
       "    </tr>\n",
       "  </tbody>\n",
       "</table>\n",
       "</div>"
      ],
      "text/plain": [
       "                FEATURE  USO_FEATURE  QT_NULOS  PC_NULOS  CARDINALIDADE  \\\n",
       "0           funded_amnt  Explicativa         0       0.0           1300   \n",
       "1         num_op_rev_tl  Explicativa         0       0.0             48   \n",
       "2  pub_rec_bankruptcies  Explicativa         0       0.0              9   \n",
       "3      percent_bc_gt_75  Explicativa         0       0.0            136   \n",
       "4        pct_tl_nvr_dlq  Explicativa         0       0.0            425   \n",
       "5    num_tl_op_past_12m  Explicativa         0       0.0             22   \n",
       "6    num_tl_90g_dpd_24m  Explicativa         0       0.0             20   \n",
       "7          num_tl_30dpd  Explicativa         0       0.0              5   \n",
       "8      num_tl_120dpd_2m  Explicativa         0       0.0              4   \n",
       "9              num_sats  Explicativa         0       0.0             56   \n",
       "\n",
       "  TIPO_FEATURE  \n",
       "0        Int32  \n",
       "1        Int16  \n",
       "2        Int16  \n",
       "3      float16  \n",
       "4      float16  \n",
       "5        Int16  \n",
       "6        Int16  \n",
       "7        Int16  \n",
       "8        Int16  \n",
       "9        Int16  "
      ]
     },
     "execution_count": 27,
     "metadata": {},
     "output_type": "execute_result"
    }
   ],
   "source": [
    "metadados = generate_metadata(abt_train, ids=['id', 'issue_d'], targets=['default'], orderby='PC_NULOS')\n",
    "metadados.head(10)"
   ]
  },
  {
   "cell_type": "code",
   "execution_count": 28,
   "metadata": {},
   "outputs": [
    {
     "data": {
      "text/html": [
       "<div>\n",
       "<style scoped>\n",
       "    .dataframe tbody tr th:only-of-type {\n",
       "        vertical-align: middle;\n",
       "    }\n",
       "\n",
       "    .dataframe tbody tr th {\n",
       "        vertical-align: top;\n",
       "    }\n",
       "\n",
       "    .dataframe thead th {\n",
       "        text-align: right;\n",
       "    }\n",
       "</style>\n",
       "<table border=\"1\" class=\"dataframe\">\n",
       "  <thead>\n",
       "    <tr style=\"text-align: right;\">\n",
       "      <th></th>\n",
       "      <th>FEATURE</th>\n",
       "      <th>USO_FEATURE</th>\n",
       "      <th>QT_NULOS</th>\n",
       "      <th>PC_NULOS</th>\n",
       "      <th>CARDINALIDADE</th>\n",
       "      <th>TIPO_FEATURE</th>\n",
       "    </tr>\n",
       "  </thead>\n",
       "  <tbody>\n",
       "    <tr>\n",
       "      <th>0</th>\n",
       "      <td>funded_amnt</td>\n",
       "      <td>Explicativa</td>\n",
       "      <td>0</td>\n",
       "      <td>0.0</td>\n",
       "      <td>1560</td>\n",
       "      <td>Int32</td>\n",
       "    </tr>\n",
       "    <tr>\n",
       "      <th>1</th>\n",
       "      <td>num_il_tl</td>\n",
       "      <td>Explicativa</td>\n",
       "      <td>0</td>\n",
       "      <td>0.0</td>\n",
       "      <td>101</td>\n",
       "      <td>Int16</td>\n",
       "    </tr>\n",
       "    <tr>\n",
       "      <th>2</th>\n",
       "      <td>percent_bc_gt_75</td>\n",
       "      <td>Explicativa</td>\n",
       "      <td>0</td>\n",
       "      <td>0.0</td>\n",
       "      <td>209</td>\n",
       "      <td>float16</td>\n",
       "    </tr>\n",
       "    <tr>\n",
       "      <th>3</th>\n",
       "      <td>pct_tl_nvr_dlq</td>\n",
       "      <td>Explicativa</td>\n",
       "      <td>0</td>\n",
       "      <td>0.0</td>\n",
       "      <td>593</td>\n",
       "      <td>float16</td>\n",
       "    </tr>\n",
       "    <tr>\n",
       "      <th>4</th>\n",
       "      <td>num_tl_op_past_12m</td>\n",
       "      <td>Explicativa</td>\n",
       "      <td>0</td>\n",
       "      <td>0.0</td>\n",
       "      <td>26</td>\n",
       "      <td>Int16</td>\n",
       "    </tr>\n",
       "    <tr>\n",
       "      <th>5</th>\n",
       "      <td>num_tl_90g_dpd_24m</td>\n",
       "      <td>Explicativa</td>\n",
       "      <td>0</td>\n",
       "      <td>0.0</td>\n",
       "      <td>25</td>\n",
       "      <td>Int16</td>\n",
       "    </tr>\n",
       "    <tr>\n",
       "      <th>6</th>\n",
       "      <td>num_tl_30dpd</td>\n",
       "      <td>Explicativa</td>\n",
       "      <td>0</td>\n",
       "      <td>0.0</td>\n",
       "      <td>2</td>\n",
       "      <td>Int16</td>\n",
       "    </tr>\n",
       "    <tr>\n",
       "      <th>7</th>\n",
       "      <td>num_tl_120dpd_2m</td>\n",
       "      <td>Explicativa</td>\n",
       "      <td>0</td>\n",
       "      <td>0.0</td>\n",
       "      <td>2</td>\n",
       "      <td>Int16</td>\n",
       "    </tr>\n",
       "    <tr>\n",
       "      <th>8</th>\n",
       "      <td>num_sats</td>\n",
       "      <td>Explicativa</td>\n",
       "      <td>0</td>\n",
       "      <td>0.0</td>\n",
       "      <td>76</td>\n",
       "      <td>Int16</td>\n",
       "    </tr>\n",
       "    <tr>\n",
       "      <th>9</th>\n",
       "      <td>num_rev_tl_bal_gt_0</td>\n",
       "      <td>Explicativa</td>\n",
       "      <td>0</td>\n",
       "      <td>0.0</td>\n",
       "      <td>45</td>\n",
       "      <td>Int16</td>\n",
       "    </tr>\n",
       "  </tbody>\n",
       "</table>\n",
       "</div>"
      ],
      "text/plain": [
       "               FEATURE  USO_FEATURE  QT_NULOS  PC_NULOS  CARDINALIDADE  \\\n",
       "0          funded_amnt  Explicativa         0       0.0           1560   \n",
       "1            num_il_tl  Explicativa         0       0.0            101   \n",
       "2     percent_bc_gt_75  Explicativa         0       0.0            209   \n",
       "3       pct_tl_nvr_dlq  Explicativa         0       0.0            593   \n",
       "4   num_tl_op_past_12m  Explicativa         0       0.0             26   \n",
       "5   num_tl_90g_dpd_24m  Explicativa         0       0.0             25   \n",
       "6         num_tl_30dpd  Explicativa         0       0.0              2   \n",
       "7     num_tl_120dpd_2m  Explicativa         0       0.0              2   \n",
       "8             num_sats  Explicativa         0       0.0             76   \n",
       "9  num_rev_tl_bal_gt_0  Explicativa         0       0.0             45   \n",
       "\n",
       "  TIPO_FEATURE  \n",
       "0        Int32  \n",
       "1        Int16  \n",
       "2      float16  \n",
       "3      float16  \n",
       "4        Int16  \n",
       "5        Int16  \n",
       "6        Int16  \n",
       "7        Int16  \n",
       "8        Int16  \n",
       "9        Int16  "
      ]
     },
     "execution_count": 28,
     "metadata": {},
     "output_type": "execute_result"
    }
   ],
   "source": [
    "metadados = generate_metadata(abt_test, ids=['id', 'issue_d'], targets=['default'], orderby='PC_NULOS')\n",
    "metadados.head(10)"
   ]
  }
 ],
 "metadata": {
  "kernelspec": {
   "display_name": ".venv",
   "language": "python",
   "name": "python3"
  },
  "language_info": {
   "codemirror_mode": {
    "name": "ipython",
    "version": 3
   },
   "file_extension": ".py",
   "mimetype": "text/x-python",
   "name": "python",
   "nbconvert_exporter": "python",
   "pygments_lexer": "ipython3",
   "version": "3.12.5"
  }
 },
 "nbformat": 4,
 "nbformat_minor": 2
}
