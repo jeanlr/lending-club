{
 "cells": [
  {
   "cell_type": "markdown",
   "metadata": {},
   "source": [
    "## Setup enviroment"
   ]
  },
  {
   "cell_type": "code",
   "execution_count": 2,
   "metadata": {},
   "outputs": [
    {
     "name": "stderr",
     "output_type": "stream",
     "text": [
      "/home/jeanlr/projetos/lending-club/.venv/lib/python3.12/site-packages/tqdm/auto.py:21: TqdmWarning: IProgress not found. Please update jupyter and ipywidgets. See https://ipywidgets.readthedocs.io/en/stable/user_install.html\n",
      "  from .autonotebook import tqdm as notebook_tqdm\n"
     ]
    }
   ],
   "source": [
    "import pandas as pd\n",
    "import numpy as np\n",
    "import sys\n",
    "sys.path.append(r'/home/jeanlr/projetos/lending-club/global')\n",
    "from util import reduce_mem_usage\n",
    "import json"
   ]
  },
  {
   "cell_type": "markdown",
   "metadata": {},
   "source": [
    "## Read train parquet file"
   ]
  },
  {
   "cell_type": "code",
   "execution_count": 3,
   "metadata": {},
   "outputs": [
    {
     "name": "stdout",
     "output_type": "stream",
     "text": [
      "<class 'pandas.core.frame.DataFrame'>\n",
      "Index: 1765426 entries, 0 to 2925491\n",
      "Columns: 142 entries, id to default\n",
      "dtypes: Int16(54), Int32(15), Int64(15), category(22), datetime64[ns](9), float16(23), float32(4)\n",
      "memory usage: 1.0 GB\n"
     ]
    }
   ],
   "source": [
    "train_df = pd.read_parquet('../data/raw/lending_club_case_train_dataset.parquet')\n",
    "train_df.info()"
   ]
  },
  {
   "cell_type": "markdown",
   "metadata": {},
   "source": [
    "## Read test parquet file"
   ]
  },
  {
   "cell_type": "code",
   "execution_count": 4,
   "metadata": {},
   "outputs": [
    {
     "name": "stdout",
     "output_type": "stream",
     "text": [
      "<class 'pandas.core.frame.DataFrame'>\n",
      "Index: 538826 entries, 472065 to 1082981\n",
      "Columns: 141 entries, id to debt_settlement_flag\n",
      "dtypes: Int16(54), Int32(15), Int64(15), category(22), datetime64[ns](9), float16(22), float32(4)\n",
      "memory usage: 389.5 MB\n"
     ]
    }
   ],
   "source": [
    "test_df = pd.read_parquet('../data/raw/lending_club_case_case_test_dataset.parquet')\n",
    "test_df.info()"
   ]
  },
  {
   "cell_type": "markdown",
   "metadata": {},
   "source": [
    "## Create new features for train dataframe"
   ]
  },
  {
   "cell_type": "code",
   "execution_count": 5,
   "metadata": {},
   "outputs": [],
   "source": [
    "## Features baseadas em dados demográficos e de empréstimo\n",
    "# Razão entre a renda anual (annual_inc) e o valor do comprometido (funded_amnt)\n",
    "train_df['income_to_funded_ratio'] = train_df['annual_inc'] / train_df['funded_amnt']\n",
    "#Razão entre as dívidas (dti) e a renda anual (annual_inc)\n",
    "train_df['debt_to_income_ratio'] = train_df['dti'] / train_df['annual_inc']\n",
    "#Razão entre (funded_amnt) e a renda anual (annual_inc)\n",
    "train_df['funded_amnt_per_income'] = train_df['funded_amnt'] / train_df['annual_inc']\n",
    "#Média entre (fico_range_high) e a renda anual (fico_range_low)\n",
    "train_df['fico_avg'] = (train_df['fico_range_high'] / train_df['fico_range_low'])/2\n",
    "\n",
    "## Features baseadas em dados de histórico de crédito\n",
    "# Razão entre o saldo atual (revol_bal) e o limite de crédito (total_rev_hi_lim)\n",
    "train_df['credit_utilization_ratio'] = train_df['revol_bal'] / train_df['total_rev_hi_lim']\n",
    "# Soma das contas abertas (open_acc) e contas fechadas (total_acc)\n",
    "train_df['total_credit_lines'] = train_df['open_acc'] + train_df['total_acc']\n",
    "# Razão entre o número de vezes que o cliente esteve em atraso (delinq_2yrs) e o número total de contas (total_acc)\n",
    "train_df['delinquency_ratio'] = train_df['delinq_2yrs'] / train_df['total_acc']\n",
    "\n",
    "## Features baseadas em dados de características do empréstimo\n",
    "# Razão entre a taxa de juros (int_rate) e a renda anual (annual_inc)\n",
    "train_df['int_rate_to_income_ratio'] = train_df['int_rate'] / train_df['annual_inc']\n",
    "\n",
    "## Features baseadas em dados de comportamento sobre o Pagamento\n",
    "# Número de registros públicos (pub_rec) ponderado pelo valor do comprometido (funded_amnt)\n",
    "train_df['public_records_impact'] = train_df['pub_rec'] * train_df['funded_amnt']\n",
    "\n",
    "## Features baseadas em dados de comportamento sobre o linhas de crédito\n",
    "#Razão entre (num_actv_bc_tl) e a renda anual (num_bc_tl)\n",
    "train_df['pct_active_bc'] = train_df['num_actv_bc_tl'] / train_df['num_bc_tl']"
   ]
  },
  {
   "cell_type": "code",
   "execution_count": 6,
   "metadata": {},
   "outputs": [
    {
     "name": "stdout",
     "output_type": "stream",
     "text": [
      "<class 'pandas.core.frame.DataFrame'>\n",
      "Index: 1765426 entries, 0 to 2925491\n",
      "Columns: 152 entries, id to pct_active_bc\n",
      "dtypes: Float64(6), Int16(55), Int32(16), Int64(15), category(22), datetime64[ns](9), float16(23), float32(6)\n",
      "memory usage: 1.1 GB\n"
     ]
    }
   ],
   "source": [
    "train_df.info()"
   ]
  },
  {
   "cell_type": "markdown",
   "metadata": {},
   "source": [
    "## Create new features for test dataframe"
   ]
  },
  {
   "cell_type": "code",
   "execution_count": 7,
   "metadata": {},
   "outputs": [],
   "source": [
    "## Features baseadas em dados demográficos e de empréstimo\n",
    "# Razão entre a renda anual (annual_inc) e o valor comprometido (funded_amnt)\n",
    "test_df['income_to_funded_ratio'] = test_df['annual_inc'] / test_df['funded_amnt']\n",
    "#Razão entre as dívidas (dti) e a renda anual (annual_inc)\n",
    "test_df['debt_to_income_ratio'] = test_df['dti'] / test_df['annual_inc']\n",
    "#Razão entre (funded_amnt) e a renda anual (annual_inc)\n",
    "test_df['funded_amnt_per_income'] = test_df['funded_amnt'] / test_df['annual_inc']\n",
    "#Média entre (fico_range_high) e a renda anual (fico_range_low)\n",
    "test_df['fico_avg'] = (test_df['fico_range_high'] / test_df['fico_range_low'])/2\n",
    "\n",
    "## Features baseadas em dados de histórico de crédito\n",
    "# Razão entre o saldo atual (revol_bal) e o limite de crédito (total_rev_hi_lim)\n",
    "test_df['credit_utilization_ratio'] = test_df['revol_bal'] / test_df['total_rev_hi_lim']\n",
    "# Soma das contas abertas (open_acc) e contas fechadas (total_acc)\n",
    "test_df['total_credit_lines'] = test_df['open_acc'] + test_df['total_acc']\n",
    "# Razão entre o número de vezes que o cliente esteve em atraso (delinq_2yrs) e o número total de contas (total_acc)\n",
    "test_df['delinquency_ratio'] = test_df['delinq_2yrs'] / test_df['total_acc']\n",
    "\n",
    "## Features baseadas em dados de características do empréstimo\n",
    "# Razão entre a taxa de juros (int_rate) e a renda anual (annual_inc)\n",
    "test_df['int_rate_to_income_ratio'] = test_df['int_rate'] / test_df['annual_inc']\n",
    "\n",
    "## Features baseadas em dados de comportamento sobre o Pagamento\n",
    "# Número de registros públicos (pub_rec) ponderado pelo valor do comprometido (funded_amnt)\n",
    "test_df['public_records_impact'] = test_df['pub_rec'] * test_df['funded_amnt']\n",
    "\n",
    "## Features baseadas em dados de comportamento sobre o linhas de crédito\n",
    "#Razão entre (num_actv_bc_tl) e a renda anual (num_bc_tl)\n",
    "test_df['pct_active_bc'] = test_df['num_actv_bc_tl'] / test_df['num_bc_tl']"
   ]
  },
  {
   "cell_type": "code",
   "execution_count": 8,
   "metadata": {},
   "outputs": [
    {
     "name": "stdout",
     "output_type": "stream",
     "text": [
      "<class 'pandas.core.frame.DataFrame'>\n",
      "Index: 538826 entries, 472065 to 1082981\n",
      "Columns: 151 entries, id to pct_active_bc\n",
      "dtypes: Float64(6), Int16(55), Int32(16), Int64(15), category(22), datetime64[ns](9), float16(22), float32(6)\n",
      "memory usage: 425.5 MB\n"
     ]
    }
   ],
   "source": [
    "test_df.info()"
   ]
  },
  {
   "cell_type": "markdown",
   "metadata": {},
   "source": [
    "## Drop columns with contains future information"
   ]
  },
  {
   "cell_type": "code",
   "execution_count": 9,
   "metadata": {},
   "outputs": [],
   "source": [
    "train_df_v2 = train_df.copy()\n",
    "\n",
    "\n",
    "\n",
    "# Lista de colunas com dados coletados após a concessão do crédito, ou seja, após o processo de aplicação (application)\n",
    "after_grant_cols= ['loan_amnt','out_prncp', 'out_prncp_inv', 'last_fico_range_low',\n",
    "                   'last_fico_range_high','total_pymnt', 'total_pymnt_inv', 'total_rec_prncp', 'total_rec_int',\n",
    "                   'total_rec_late_fee', 'recoveries', 'collection_recovery_fee','tot_coll_amt','last_pymnt_amnt',\n",
    "                   'total_il_high_credit_limit', 'hardship_flag', 'installment',\n",
    "                   'revol_util','collections_12_mths_ex_med',\n",
    "                   'last_credit_pull_d', 'next_pymnt_d', 'last_pymnt_d', 'collection_recovery_fee'\n",
    "                   ]\n",
    "# Removendo as variáveis relacionadas ao plano de dificuldades (covid)\n",
    "hardship_cols = ['hardship_flag','hardship_type','hardship_reason','hardship_status','deferral_term',\n",
    "                 'hardship_amount','hardship_start_date','hardship_end_date','payment_plan_start_date',\n",
    "                 'hardship_length','hardship_dpd','hardship_loan_status','orig_projected_additional_accrued_interest',\n",
    "                 'hardship_payoff_balance_amount','hardship_last_payment_amount','debt_settlement_flag']\n",
    "\n",
    "useless_cols = ['id', 'initial_list_status', 'title', 'purpose', 'url', 'pymnt_plan', 'loan_status', 'emp_title']\n",
    "\n",
    "adress_cols = ['zip_code', 'addr_state']\n",
    "\n",
    "date_cols = list(train_df_v2.select_dtypes(include='datetime').columns)\n",
    "\n",
    "# Colunas a serem dropadas\n",
    "cols_to_drop = after_grant_cols + hardship_cols + useless_cols + date_cols + adress_cols"
   ]
  },
  {
   "cell_type": "code",
   "execution_count": 10,
   "metadata": {},
   "outputs": [],
   "source": [
    "# Cols that will not be used during the traning of the model\n",
    "# Saving the features list\n",
    "features_list = list(train_df_v2.drop(columns=cols_to_drop).columns)\n",
    "with open('../artifacts/features_list.json', 'w') as f:\n",
    "    json.dump(features_list, f)"
   ]
  },
  {
   "cell_type": "markdown",
   "metadata": {},
   "source": [
    "## Saving the processed ABT"
   ]
  },
  {
   "cell_type": "code",
   "execution_count": 11,
   "metadata": {},
   "outputs": [],
   "source": [
    "# Train\n",
    "train_df.to_parquet('../data/processed/feature_engineering_train.parquet')\n",
    "\n",
    "#Test\n",
    "test_df.to_parquet('../data/processed/feature_engineering_test.parquet')"
   ]
  }
 ],
 "metadata": {
  "kernelspec": {
   "display_name": ".venv",
   "language": "python",
   "name": "python3"
  },
  "language_info": {
   "codemirror_mode": {
    "name": "ipython",
    "version": 3
   },
   "file_extension": ".py",
   "mimetype": "text/x-python",
   "name": "python",
   "nbconvert_exporter": "python",
   "pygments_lexer": "ipython3",
   "version": "3.12.3"
  }
 },
 "nbformat": 4,
 "nbformat_minor": 2
}
