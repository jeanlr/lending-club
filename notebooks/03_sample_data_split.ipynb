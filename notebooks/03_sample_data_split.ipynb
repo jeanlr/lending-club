{
 "cells": [
  {
   "cell_type": "markdown",
   "metadata": {},
   "source": [
    "## Setup enviroment"
   ]
  },
  {
   "cell_type": "code",
   "execution_count": 1,
   "metadata": {},
   "outputs": [
    {
     "name": "stderr",
     "output_type": "stream",
     "text": [
      "/home/jeanlr/projetos/lending-club/.venv/lib/python3.12/site-packages/tqdm/auto.py:21: TqdmWarning: IProgress not found. Please update jupyter and ipywidgets. See https://ipywidgets.readthedocs.io/en/stable/user_install.html\n",
      "  from .autonotebook import tqdm as notebook_tqdm\n"
     ]
    }
   ],
   "source": [
    "import os\n",
    "import gc\n",
    "import pandas as pd\n",
    "import numpy as np\n",
    "from catboost import CatBoostClassifier\n",
    "from sklearn.metrics import log_loss, roc_auc_score, average_precision_score, brier_score_loss, precision_recall_curve\n",
    "from sklearn.calibration import calibration_curve, CalibratedClassifierCV\n",
    "from sklearn.inspection import permutation_importance\n",
    "from sklearn.model_selection import train_test_split\n",
    "import matplotlib.pyplot as plt\n",
    "import seaborn as sns\n",
    "import sys\n",
    "sys.path.append(r'/home/jeanlr/projetos/lending-club/global')\n",
    "from util import *\n",
    "import arfs.feature_selection.allrelevant as arfsgroot\n",
    "import shap\n",
    "import json\n",
    "import joblib\n",
    "\n",
    "sns.set(style='whitegrid')"
   ]
  },
  {
   "cell_type": "markdown",
   "metadata": {},
   "source": [
    "## Read the parquet file located at ../data/processed/feature_engineering_train.parquet"
   ]
  },
  {
   "cell_type": "code",
   "execution_count": 2,
   "metadata": {},
   "outputs": [
    {
     "name": "stdout",
     "output_type": "stream",
     "text": [
      "<class 'pandas.core.frame.DataFrame'>\n",
      "Index: 1765426 entries, 0 to 2925491\n",
      "Columns: 152 entries, id to pct_active_bc\n",
      "dtypes: Float64(6), Int16(55), Int32(16), Int64(15), category(22), datetime64[ns](9), float16(23), float32(6)\n",
      "memory usage: 1.1 GB\n"
     ]
    }
   ],
   "source": [
    "df = pd.read_parquet('../data/processed/feature_engineering_train.parquet')\n",
    "df.info() "
   ]
  },
  {
   "cell_type": "markdown",
   "metadata": {},
   "source": [
    "## Split Out-Of-Time Train, Validation, Test"
   ]
  },
  {
   "cell_type": "code",
   "execution_count": 3,
   "metadata": {},
   "outputs": [
    {
     "name": "stdout",
     "output_type": "stream",
     "text": [
      "Proporção de 0 e 1:\n",
      "default\n",
      "0.0    0.809375\n",
      "1.0    0.190625\n",
      "Name: proportion, dtype: float64\n"
     ]
    }
   ],
   "source": [
    "default_nao_nulo = df[df['default'].notnull()]\n",
    "proporcao = default_nao_nulo['default'].value_counts(normalize=True)\n",
    "\n",
    "# Exibir a proporção\n",
    "print(\"Proporção de 0 e 1:\")\n",
    "print(proporcao)"
   ]
  },
  {
   "cell_type": "markdown",
   "metadata": {},
   "source": [
    "## Remove nulls on target"
   ]
  },
  {
   "cell_type": "code",
   "execution_count": 4,
   "metadata": {},
   "outputs": [
    {
     "name": "stdout",
     "output_type": "stream",
     "text": [
      "default\n",
      "0.0    0.809375\n",
      "1.0    0.190625\n",
      "Name: proportion, dtype: float64\n"
     ]
    }
   ],
   "source": [
    "# Remove as linhas com valores nulos na coluna 'default'\n",
    "df = df.dropna(subset=['default'])\n",
    "\n",
    "# Verifica a distribuição dos valores após a remoção\n",
    "print(df['default'].value_counts(normalize=True))"
   ]
  },
  {
   "cell_type": "code",
   "execution_count": 5,
   "metadata": {},
   "outputs": [
    {
     "name": "stdout",
     "output_type": "stream",
     "text": [
      "Train Shape:  (86641, 102)\n",
      "Validation shape:  (246072, 102)\n",
      "Calibration shape:  (61519, 102)\n"
     ]
    }
   ],
   "source": [
    "train_max_date = '2016-01-01'\n",
    "validation_max_date = '2016-10-01'\n",
    "test_start_date = '2017-03-01'\n",
    "\n",
    "# Loading features from features_list.json\n",
    "with open('../artifacts/features_list.json', 'r') as f:\n",
    "    features = json.load(f)\n",
    "\n",
    "train_df = df.loc[df['issue_d'] < train_max_date, features]\n",
    "validation_df = df.loc[(df['issue_d'] >= train_max_date) & (df['issue_d'] < validation_max_date), features]\n",
    "\n",
    "# Get Train and Validation Subsamples to speed up the process\n",
    "_, train_df = train_test_split(train_df, test_size=0.10, random_state=42, stratify=train_df['default'])\n",
    "\n",
    "# Spliting the original validatio into two shuffled datasets one for validation only and the other for calibration\n",
    "validation_df, calibration_df = train_test_split(validation_df, test_size=0.20, random_state=42, stratify=validation_df['default'])\n",
    "\n",
    "print('Train Shape: ', train_df.shape)\n",
    "print('Validation shape: ', validation_df.shape)\n",
    "print('Calibration shape: ', calibration_df.shape)"
   ]
  },
  {
   "cell_type": "code",
   "execution_count": 6,
   "metadata": {},
   "outputs": [
    {
     "data": {
      "text/plain": [
       "Index(['funded_amnt', 'funded_amnt_inv', 'term', 'int_rate', 'grade',\n",
       "       'sub_grade', 'emp_length', 'home_ownership', 'annual_inc',\n",
       "       'verification_status',\n",
       "       ...\n",
       "       'income_to_funded_ratio', 'debt_to_income_ratio',\n",
       "       'funded_amnt_per_income', 'fico_avg', 'credit_utilization_ratio',\n",
       "       'total_credit_lines', 'delinquency_ratio', 'int_rate_to_income_ratio',\n",
       "       'public_records_impact', 'pct_active_bc'],\n",
       "      dtype='object', length=102)"
      ]
     },
     "execution_count": 6,
     "metadata": {},
     "output_type": "execute_result"
    }
   ],
   "source": [
    "train_df.columns"
   ]
  },
  {
   "cell_type": "markdown",
   "metadata": {},
   "source": [
    "## Saving ABT's"
   ]
  },
  {
   "cell_type": "code",
   "execution_count": 7,
   "metadata": {},
   "outputs": [],
   "source": [
    "# Save training data\n",
    "train_df.to_parquet('../data/processed/train_df.parquet')\n",
    "\n",
    "# Save validation data\n",
    "validation_df.to_parquet('../data/processed/validation_df.parquet')\n",
    "\n",
    "# Save calibration data\n",
    "calibration_df.to_parquet('../data/processed/calibration_df.parquet')"
   ]
  }
 ],
 "metadata": {
  "kernelspec": {
   "display_name": ".venv",
   "language": "python",
   "name": "python3"
  },
  "language_info": {
   "codemirror_mode": {
    "name": "ipython",
    "version": 3
   },
   "file_extension": ".py",
   "mimetype": "text/x-python",
   "name": "python",
   "nbconvert_exporter": "python",
   "pygments_lexer": "ipython3",
   "version": "3.12.3"
  }
 },
 "nbformat": 4,
 "nbformat_minor": 2
}
